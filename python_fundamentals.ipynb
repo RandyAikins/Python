{
 "cells": [
  {
   "cell_type": "markdown",
   "id": "740eb3be",
   "metadata": {},
   "source": [
    "### Python_Fundamentals"
   ]
  },
  {
   "cell_type": "code",
   "execution_count": 71,
   "id": "8a784e6c",
   "metadata": {},
   "outputs": [
    {
     "name": "stdout",
     "output_type": "stream",
     "text": [
      "Hello World\n"
     ]
    }
   ],
   "source": [
    "message = 'Hello World'\n",
    "\n",
    "print(message)"
   ]
  },
  {
   "cell_type": "code",
   "execution_count": 72,
   "id": "07e8cfc4",
   "metadata": {},
   "outputs": [
    {
     "data": {
      "text/plain": [
       "'dlroW olleH'"
      ]
     },
     "execution_count": 72,
     "metadata": {},
     "output_type": "execute_result"
    }
   ],
   "source": [
    "# reverse sting\n",
    "\n",
    "message[::-1]"
   ]
  },
  {
   "cell_type": "code",
   "execution_count": 73,
   "id": "6b2a9ddc",
   "metadata": {},
   "outputs": [
    {
     "data": {
      "text/plain": [
       "['hello']"
      ]
     },
     "execution_count": 73,
     "metadata": {},
     "output_type": "execute_result"
    }
   ],
   "source": [
    "# slicing: grab hello from dic\n",
    "\n",
    "dic = {'k1':[1,2,{'k2':['this is tricky', {'tough':[1,2,['hello']]}]}]}\n",
    "\n",
    "dic['k1'][2]['k2'][1]['tough'][-1]"
   ]
  },
  {
   "cell_type": "code",
   "execution_count": 74,
   "id": "0d3124b5",
   "metadata": {},
   "outputs": [
    {
     "name": "stdout",
     "output_type": "stream",
     "text": [
      "First name: Randy\n",
      "Last name: Aikins\n",
      "-----------------\n",
      "My name is Randy Aikins\n"
     ]
    }
   ],
   "source": [
    "# input, concatenating and f formating\n",
    "\n",
    "f_name = input('First name: ')\n",
    "l_name = input('Last name: ')\n",
    "\n",
    "full_name = f_name + ' ' + l_name\n",
    "print('-----------------')\n",
    "print(f'My name is {full_name}')"
   ]
  },
  {
   "cell_type": "code",
   "execution_count": 75,
   "id": "0fb67531",
   "metadata": {},
   "outputs": [
    {
     "name": "stdout",
     "output_type": "stream",
     "text": [
      "3750.0\n"
     ]
    }
   ],
   "source": [
    "# tax computation: float and integer\n",
    "\n",
    "tax_rate = 0.25\n",
    "income = 15000\n",
    "\n",
    "tax_paid = tax_rate * income\n",
    "print(tax_paid)"
   ]
  },
  {
   "cell_type": "code",
   "execution_count": 76,
   "id": "9bbfcae7",
   "metadata": {},
   "outputs": [
    {
     "name": "stdout",
     "output_type": "stream",
     "text": [
      "What is your password: 123\n",
      "Wrong Password\n",
      "What is your password: 1234\n",
      "Login Succesful\n"
     ]
    }
   ],
   "source": [
    "# 3 trials for password verification\n",
    "\n",
    "for i in range(3):\n",
    "    password = input('What is your password: ')\n",
    "    if password == '1234':\n",
    "        print('Login Succesful')\n",
    "        break\n",
    "    print('Wrong Password')"
   ]
  },
  {
   "cell_type": "code",
   "execution_count": 77,
   "id": "77ccee9b",
   "metadata": {},
   "outputs": [
    {
     "name": "stdout",
     "output_type": "stream",
     "text": [
      "0\n",
      "1\n",
      "2\n",
      "3\n",
      "4\n"
     ]
    }
   ],
   "source": [
    "# loop\n",
    "\n",
    "x = 0\n",
    "\n",
    "while x < 10:\n",
    "    if x == 5:\n",
    "        break\n",
    "    print (x)\n",
    "    x += 1 "
   ]
  },
  {
   "cell_type": "code",
   "execution_count": 78,
   "id": "a702ad0c",
   "metadata": {},
   "outputs": [
    {
     "name": "stdout",
     "output_type": "stream",
     "text": [
      "What is your name:Rapha\n",
      "Do you have a voter_id: Yes\n",
      "How old are you: 17\n",
      "-----------------\n",
      "Sorry Rapha, you are not eligible to vote\n"
     ]
    }
   ],
   "source": [
    "# conditionals & comparison operators\n",
    "\n",
    "name = input('What is your name:')\n",
    "voter_id = input('Do you have a voter_id: ')\n",
    "age = int(input('How old are you: '))\n",
    "\n",
    "if voter_id == 'Yes' and age >= 18:\n",
    "    print('-----------------')\n",
    "    print(f'Welcome {name}, you can vote')\n",
    "else: \n",
    "    print('-----------------')\n",
    "    print(f'Sorry {name}, you are not eligible to vote')"
   ]
  },
  {
   "cell_type": "code",
   "execution_count": 79,
   "id": "dfea8009",
   "metadata": {},
   "outputs": [],
   "source": [
    "# function\n",
    "\n",
    "def weather_adv():\n",
    "    weather = input('What is the weather outside? ')\n",
    "\n",
    "    if weather == 'Rainy':\n",
    "        print('-------------')\n",
    "        print('Get an umbrella before going outside')\n",
    "    elif weather == 'Cloudy':\n",
    "        print('-------------')\n",
    "        print('Get a jacket before going outside')\n",
    "    else:\n",
    "        print('-------------')\n",
    "        print('Is a fine day!')"
   ]
  },
  {
   "cell_type": "code",
   "execution_count": 80,
   "id": "6cba0e89",
   "metadata": {},
   "outputs": [
    {
     "name": "stdout",
     "output_type": "stream",
     "text": [
      "What is the weather outside? Cloudy\n",
      "-------------\n",
      "Get a jacket before going outside\n"
     ]
    }
   ],
   "source": [
    "weather_adv()"
   ]
  },
  {
   "cell_type": "code",
   "execution_count": 81,
   "id": "825b61e4",
   "metadata": {},
   "outputs": [],
   "source": [
    "# test score function\n",
    "\n",
    "def test_score():\n",
    "    \n",
    "    que = input('Did you partake in all test?: ')\n",
    "    \n",
    "    while que == 'Yes':\n",
    "        f_test = int(input('What is your score for the first test: '))\n",
    "        s_test = int(input('What is your score for the second test: '))\n",
    "        exams = int(input('What is your exams score: '))\n",
    "        \n",
    "        total_score = f_test + s_test + exams\n",
    "        print('-----------------------')\n",
    "        print(f'Your final score is {total_score}%')\n",
    "        break"
   ]
  },
  {
   "cell_type": "code",
   "execution_count": 82,
   "id": "ed4ef534",
   "metadata": {},
   "outputs": [
    {
     "name": "stdout",
     "output_type": "stream",
     "text": [
      "Did you partake in all test?: Yes\n",
      "What is your score for the first test: 12\n",
      "What is your score for the second test: 9\n",
      "What is your exams score: 59\n",
      "-----------------------\n",
      "Your final score is 80%\n"
     ]
    }
   ],
   "source": [
    "test_score()"
   ]
  },
  {
   "cell_type": "code",
   "execution_count": null,
   "id": "65f5ad62",
   "metadata": {},
   "outputs": [],
   "source": []
  }
 ],
 "metadata": {
  "kernelspec": {
   "display_name": "Python 3 (ipykernel)",
   "language": "python",
   "name": "python3"
  },
  "language_info": {
   "codemirror_mode": {
    "name": "ipython",
    "version": 3
   },
   "file_extension": ".py",
   "mimetype": "text/x-python",
   "name": "python",
   "nbconvert_exporter": "python",
   "pygments_lexer": "ipython3",
   "version": "3.10.9"
  }
 },
 "nbformat": 4,
 "nbformat_minor": 5
}
